{
 "cells": [
  {
   "cell_type": "code",
   "execution_count": null,
   "id": "cb8abcc7",
   "metadata": {},
   "outputs": [],
   "source": [
    "#Task 1\n",
    "import pandas as pd\n",
    "import numpy as np\n",
    "import matplotlib.pyplot as plt\n",
    "import seaborn as sns\n",
    "from sklearn.preprocessing import StandardScaler\n",
    "from sklearn.model_selection import train_test_split\n",
    "from sklearn.model_selection import StratifiedKFold\n",
    "from sklearn.neural_network import MLPClassifier\n",
    "from sklearn.metrics import accuracy_score, confusion_matrix, roc_curve, roc_auc_score, classification_report\n",
    "\n",
    "#for task 11 confusion_matrix plot\n",
    "import itertools\n",
    "\n",
    "import warnings\n",
    "warnings.filterwarnings('ignore')"
   ]
  },
  {
   "cell_type": "code",
   "execution_count": null,
   "id": "2413b7f1",
   "metadata": {},
   "outputs": [],
   "source": [
    "#Task 2: Import dataset\n",
    "diabetes = pd.read_csv('Diabetes_Data.csv')\n",
    "diabetes.head()"
   ]
  },
  {
   "cell_type": "code",
   "execution_count": null,
   "id": "99d2de51",
   "metadata": {},
   "outputs": [],
   "source": [
    "# More on Task 2: Check the dimension of your dataset\n",
    "print(\"Cancer data set dimensions : {}\".format(diabetes.shape))\n",
    "# Our dataset has 768 observations/instances/rows and 9 attributes/columns\n",
    "#Check for missing or Null Data points\n",
    "diabetes.isnull().sum()\n",
    "diabetes.isna().sum()\n",
    "# There is no missing values in dataset"
   ]
  },
  {
   "cell_type": "code",
   "execution_count": null,
   "id": "6d98a899",
   "metadata": {},
   "outputs": [],
   "source": [
    "# Task 3: Set the input (X) and output/target (y) \n",
    "X = diabetes.iloc[:, 1:8].values \n",
    "y = diabetes.iloc[:, 8].values"
   ]
  },
  {
   "cell_type": "code",
   "execution_count": null,
   "id": "0f1ea198",
   "metadata": {},
   "outputs": [],
   "source": [
    "# Task 4.1: counting values of variables in 'Outcome'\n",
    "ax = sns.countplot(x=\"Outcome\", data=diabetes, palette=\"flare\")\n",
    "ax.set_title('Number of samples in each class (0: Healthy, 1: Diabetic)', fontsize=20)\n",
    "for p in ax.patches:\n",
    "    ax.annotate(f'\\n{p.get_height()}', (p.get_x()+0.2, p.get_height()), ha='center', va='top', color='white', size=18)\n",
    "plt.show()"
   ]
  },
  {
   "cell_type": "code",
   "execution_count": null,
   "id": "faf5928f",
   "metadata": {},
   "outputs": [],
   "source": [
    "#Task 4.2 \n",
    "plt.figure(figsize=(12,10))  # Set the size of figure to 12 by 10.\n",
    "p=sns.heatmap(diabetes.corr(), annot=True,cmap ='PiYG')"
   ]
  },
  {
   "cell_type": "code",
   "execution_count": null,
   "id": "cdc6a64c",
   "metadata": {},
   "outputs": [],
   "source": [
    "#Task 5 Sacle input data\n",
    "# Show summary statistics\n",
    "print(diabetes.describe())\n",
    "#looking and the min and max we can see that the range \n",
    "#of values are very diffrent (e.g., DiabetesPedigreeFunction compared with Glucose level)\n",
    "sc = StandardScaler()\n",
    "X = sc.fit_transform(X)\n",
    "\n",
    "#To make sure we accomodate the problem of large diffrence between our features' range"
   ]
  },
  {
   "cell_type": "code",
   "execution_count": null,
   "id": "010a2792",
   "metadata": {},
   "outputs": [],
   "source": [
    "#Task 6: Splitting Data\n",
    "X_train, X_test, y_train, y_test = train_test_split(X, y, test_size=0.3, stratify=y, random_state=3)\n",
    "\n",
    "#print(\"X_train set dimensions : {}\".format(X_train.shape))\n",
    "#print(\"X_test set dimensions : {}\".format(X_test.shape))\n",
    "#print(\"y_train set dimensions : {}\".format(y_train.shape))\n",
    "#print(\"y_test set dimensions : {}\".format(y_test.shape))"
   ]
  },
  {
   "cell_type": "code",
   "execution_count": null,
   "id": "2b6f1f39",
   "metadata": {},
   "outputs": [],
   "source": [
    "# Task 7.1 and 7.2: Build the Model and fit to train set\n",
    "mlp = MLPClassifier(\n",
    "    max_iter=200,\n",
    "    alpha=0.01,\n",
    "    activation='logistic',\n",
    "    solver='adam')\n",
    "\n",
    "#Fit the model\n",
    "mlp.fit(X_train, y_train)\n",
    "#Make prediction\n",
    "mlp_predict = mlp.predict(X_test)"
   ]
  },
  {
   "cell_type": "code",
   "execution_count": null,
   "id": "f332d19c",
   "metadata": {},
   "outputs": [],
   "source": [
    "# Task 7.3: Adjust the Configuration \n",
    "\n",
    "# ???? Study the Multi-layer Perceptron classifier's attributes and find out the number of iterations the solver has run.\n",
    "print(\"Number of iterations: \", mlp.????)\n",
    "#Q: Why did the iterations stopped before 200?\n",
    "#Training loss did not improve more than tol=0.000100 for 10 consecutive epochs. Stopping.\n",
    "\n",
    "loss_values = mlp.loss_curve_\n",
    "plt.plot(loss_values)\n",
    "plt.show()"
   ]
  },
  {
   "cell_type": "code",
   "execution_count": null,
   "id": "1589c250",
   "metadata": {},
   "outputs": [],
   "source": [
    "#Task 8\n",
    "print('MLP Accuracy: {:.2f}%'.format(accuracy_score(y_test, mlp_predict) * 100))\n",
    "print('MLP Classification report:\\n\\n', classification_report(y_test, mlp_predict))\n",
    "print('MLP Training set score: {:.2f}%'.format(mlp.score(X_train, y_train) * 100))\n",
    "print('MLP Testing set score: {:.2f}%'.format(mlp.score(X_test, y_test) * 100))"
   ]
  },
  {
   "cell_type": "code",
   "execution_count": null,
   "id": "a8d11d80",
   "metadata": {},
   "outputs": [],
   "source": [
    "# Task 9: Confusion Matrix for MLPClassifier using train test split\n",
    "outcome_labels = sorted(diabetes.Outcome.unique())\n",
    "sns.heatmap(\n",
    "    confusion_matrix(y_test, mlp_predict),\n",
    "    annot=True,\n",
    "    fmt=\"d\",#fmt=\".1f\",\n",
    "    xticklabels=outcome_labels,\n",
    "    yticklabels=outcome_labels\n",
    ")"
   ]
  },
  {
   "cell_type": "code",
   "execution_count": null,
   "id": "1de6ea05",
   "metadata": {},
   "outputs": [],
   "source": [
    "# Task 10: prepare kfold cross validation\n",
    "kfold = StratifiedKFold(10, shuffle=True)\n",
    "# enumerate splits\n",
    "scores = list()\n",
    "predicted_targets = np.array([])\n",
    "actual_targets = np.array([])\n",
    "mlp_predict_proba= np.array([])\n",
    "mlp_predict = np.array([])\n",
    "X_test=np.array([])\n",
    "for train_ix, test_ix in kfold.split(X, y):\n",
    "    # split data\n",
    "    X_train, X_test, y_train, y_test = X[train_ix], X[test_ix], y[train_ix], y[test_ix]\n",
    "    # fit the model\n",
    "    mlp.fit(X_train, y_train)\n",
    "    # predict test set  \n",
    "    mlp_predict = mlp.predict(X_test)    \n",
    "    predicted_targets = np.append(predicted_targets, mlp_predict)\n",
    "    actual_targets = np.append(actual_targets, y_test)\n",
    "    print('----------------------')\n",
    "    '''\n",
    "     # evaluate on train\n",
    "    score_train = mlp.score(X_train, y_train)\n",
    "    print('score_train:%.2f' % score_train)\n",
    "    scores.append(score_train)\n",
    "    '''\n",
    "   \n",
    "       \n",
    "    # evaluate on predictions\n",
    "    score_test = accuracy_score(y_test, mlp_predict)\n",
    "    print('score_test: %.2f' % score_test)\n",
    "    scores.append(score_test)\n",
    "\n",
    "# summarize all score_test\n",
    "print('MLP Accuracy: {:.2f}%'.format(accuracy_score(actual_targets, predicted_targets) * 100))"
   ]
  },
  {
   "cell_type": "code",
   "execution_count": null,
   "id": "2ee13575",
   "metadata": {},
   "outputs": [],
   "source": [
    "## Task 11: Function to generate Kfold's confusion_matrix\n",
    "def generate_confusion_matrix(cnf_matrix, classes, normalize=False, title='Confusion matrix'):\n",
    "    if normalize:\n",
    "        cnf_matrix = cnf_matrix.astype('float') / cnf_matrix.sum(axis=1)[:, np.newaxis]\n",
    "        \n",
    "    plt.imshow(cnf_matrix, interpolation='nearest', cmap=plt.get_cmap('Blues'))\n",
    "    plt.title(title)\n",
    "    plt.colorbar()\n",
    "\n",
    "    tick_marks = np.arange(len(classes))\n",
    "    plt.xticks(tick_marks, classes, rotation=45)\n",
    "    plt.yticks(tick_marks, classes)\n",
    "\n",
    "    fmt = '.2f' if normalize else 'd'\n",
    "    thresh = cnf_matrix.max() / 2.\n",
    "\n",
    "    for i, j in itertools.product(range(cnf_matrix.shape[0]), range(cnf_matrix.shape[1])):\n",
    "        plt.text(j, i, format(cnf_matrix[i, j], fmt), horizontalalignment=\"center\",\n",
    "                 color=\"white\" if cnf_matrix[i, j] > thresh else \"black\")\n",
    "\n",
    "    plt.tight_layout()\n",
    "    plt.ylabel('True label')\n",
    "    plt.xlabel('Predicted label')\n",
    "\n",
    "    return cnf_matrix"
   ]
  },
  {
   "cell_type": "code",
   "execution_count": null,
   "id": "3444d05f",
   "metadata": {},
   "outputs": [],
   "source": [
    "# Task 11: Function to plot Kfold's confusion_matrix\n",
    "def plot_myconfusion_matrix(predicted_labels_list, y_test_list):\n",
    "    cnf_matrix = confusion_matrix(y_test_list, predicted_labels_list)\n",
    "    np.set_printoptions(precision=2)\n",
    "\n",
    "    # Plot non-normalized confusion matrix\n",
    "    plt.figure()\n",
    "    generate_confusion_matrix(cnf_matrix, classes=class_names, title='Confusion matrix from K-fold result')\n",
    "    plt.show()"
   ]
  },
  {
   "cell_type": "code",
   "execution_count": null,
   "id": "da510205",
   "metadata": {},
   "outputs": [],
   "source": [
    "#Q1\n",
    "class_names=[0, 1]\n",
    "\n",
    "print(confusion_matrix(actual_targets,predicted_targets))\n",
    "\n",
    "#Call function(s) above (Task 8) to generate and plot the confusion matrix"
   ]
  }
 ],
 "metadata": {
  "kernelspec": {
   "display_name": "Python 3 (ipykernel)",
   "language": "python",
   "name": "python3"
  },
  "language_info": {
   "codemirror_mode": {
    "name": "ipython",
    "version": 3
   },
   "file_extension": ".py",
   "mimetype": "text/x-python",
   "name": "python",
   "nbconvert_exporter": "python",
   "pygments_lexer": "ipython3",
   "version": "3.9.7"
  }
 },
 "nbformat": 4,
 "nbformat_minor": 5
}
